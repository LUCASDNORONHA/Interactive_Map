{
  "nbformat": 4,
  "nbformat_minor": 0,
  "metadata": {
    "colab": {
      "provenance": []
    },
    "kernelspec": {
      "name": "python3",
      "display_name": "Python 3"
    },
    "language_info": {
      "name": "python"
    }
  },
  "cells": [
    {
      "cell_type": "markdown",
      "source": [
        "Mapa Interativo"
      ],
      "metadata": {
        "id": "V99lFVIY7obW"
      }
    },
    {
      "cell_type": "markdown",
      "source": [
        "Criando um visualização de mapa interativo que exiba o caminho mais curto entre dois pontos no mar usando a biblioteca Dash do Python."
      ],
      "metadata": {
        "id": "vm7gHf1Y7VRd"
      }
    },
    {
      "cell_type": "code",
      "execution_count": 1,
      "metadata": {
        "colab": {
          "base_uri": "https://localhost:8080/"
        },
        "id": "ixElaXUhZlTo",
        "outputId": "abc25424-fb2e-4cb1-ef2b-cfe02dc7def4"
      },
      "outputs": [
        {
          "output_type": "stream",
          "name": "stdout",
          "text": [
            "Collecting dash\n",
            "  Downloading dash-2.17.1-py3-none-any.whl (7.5 MB)\n",
            "\u001b[2K     \u001b[90m━━━━━━━━━━━━━━━━━━━━━━━━━━━━━━━━━━━━━━━━\u001b[0m \u001b[32m7.5/7.5 MB\u001b[0m \u001b[31m13.2 MB/s\u001b[0m eta \u001b[36m0:00:00\u001b[0m\n",
            "\u001b[?25hCollecting dash-bootstrap-components\n",
            "  Downloading dash_bootstrap_components-1.6.0-py3-none-any.whl (222 kB)\n",
            "\u001b[2K     \u001b[90m━━━━━━━━━━━━━━━━━━━━━━━━━━━━━━━━━━━━━━━━\u001b[0m \u001b[32m222.5/222.5 kB\u001b[0m \u001b[31m8.5 MB/s\u001b[0m eta \u001b[36m0:00:00\u001b[0m\n",
            "\u001b[?25hCollecting dash-leaflet\n",
            "  Downloading dash_leaflet-1.0.15-py3-none-any.whl (285 kB)\n",
            "\u001b[2K     \u001b[90m━━━━━━━━━━━━━━━━━━━━━━━━━━━━━━━━━━━━━━━━\u001b[0m \u001b[32m285.5/285.5 kB\u001b[0m \u001b[31m4.7 MB/s\u001b[0m eta \u001b[36m0:00:00\u001b[0m\n",
            "\u001b[?25hRequirement already satisfied: networkx in /usr/local/lib/python3.10/dist-packages (3.3)\n",
            "Requirement already satisfied: Flask<3.1,>=1.0.4 in /usr/local/lib/python3.10/dist-packages (from dash) (2.2.5)\n",
            "Requirement already satisfied: Werkzeug<3.1 in /usr/local/lib/python3.10/dist-packages (from dash) (3.0.3)\n",
            "Requirement already satisfied: plotly>=5.0.0 in /usr/local/lib/python3.10/dist-packages (from dash) (5.15.0)\n",
            "Collecting dash-html-components==2.0.0 (from dash)\n",
            "  Downloading dash_html_components-2.0.0-py3-none-any.whl (4.1 kB)\n",
            "Collecting dash-core-components==2.0.0 (from dash)\n",
            "  Downloading dash_core_components-2.0.0-py3-none-any.whl (3.8 kB)\n",
            "Collecting dash-table==5.0.0 (from dash)\n",
            "  Downloading dash_table-5.0.0-py3-none-any.whl (3.9 kB)\n",
            "Requirement already satisfied: importlib-metadata in /usr/local/lib/python3.10/dist-packages (from dash) (8.0.0)\n",
            "Requirement already satisfied: typing-extensions>=4.1.1 in /usr/local/lib/python3.10/dist-packages (from dash) (4.12.2)\n",
            "Requirement already satisfied: requests in /usr/local/lib/python3.10/dist-packages (from dash) (2.31.0)\n",
            "Collecting retrying (from dash)\n",
            "  Downloading retrying-1.3.4-py3-none-any.whl (11 kB)\n",
            "Requirement already satisfied: nest-asyncio in /usr/local/lib/python3.10/dist-packages (from dash) (1.6.0)\n",
            "Requirement already satisfied: setuptools in /usr/local/lib/python3.10/dist-packages (from dash) (67.7.2)\n",
            "Requirement already satisfied: Jinja2>=3.0 in /usr/local/lib/python3.10/dist-packages (from Flask<3.1,>=1.0.4->dash) (3.1.4)\n",
            "Requirement already satisfied: itsdangerous>=2.0 in /usr/local/lib/python3.10/dist-packages (from Flask<3.1,>=1.0.4->dash) (2.2.0)\n",
            "Requirement already satisfied: click>=8.0 in /usr/local/lib/python3.10/dist-packages (from Flask<3.1,>=1.0.4->dash) (8.1.7)\n",
            "Requirement already satisfied: tenacity>=6.2.0 in /usr/local/lib/python3.10/dist-packages (from plotly>=5.0.0->dash) (8.4.2)\n",
            "Requirement already satisfied: packaging in /usr/local/lib/python3.10/dist-packages (from plotly>=5.0.0->dash) (24.1)\n",
            "Requirement already satisfied: MarkupSafe>=2.1.1 in /usr/local/lib/python3.10/dist-packages (from Werkzeug<3.1->dash) (2.1.5)\n",
            "Requirement already satisfied: zipp>=0.5 in /usr/local/lib/python3.10/dist-packages (from importlib-metadata->dash) (3.19.2)\n",
            "Requirement already satisfied: charset-normalizer<4,>=2 in /usr/local/lib/python3.10/dist-packages (from requests->dash) (3.3.2)\n",
            "Requirement already satisfied: idna<4,>=2.5 in /usr/local/lib/python3.10/dist-packages (from requests->dash) (3.7)\n",
            "Requirement already satisfied: urllib3<3,>=1.21.1 in /usr/local/lib/python3.10/dist-packages (from requests->dash) (2.0.7)\n",
            "Requirement already satisfied: certifi>=2017.4.17 in /usr/local/lib/python3.10/dist-packages (from requests->dash) (2024.6.2)\n",
            "Requirement already satisfied: six>=1.7.0 in /usr/local/lib/python3.10/dist-packages (from retrying->dash) (1.16.0)\n",
            "Installing collected packages: dash-table, dash-html-components, dash-core-components, retrying, dash, dash-leaflet, dash-bootstrap-components\n",
            "Successfully installed dash-2.17.1 dash-bootstrap-components-1.6.0 dash-core-components-2.0.0 dash-html-components-2.0.0 dash-leaflet-1.0.15 dash-table-5.0.0 retrying-1.3.4\n"
          ]
        }
      ],
      "source": [
        "!pip install dash dash-bootstrap-components dash-leaflet networkx"
      ]
    },
    {
      "cell_type": "code",
      "source": [
        "import dash_bootstrap_components as dbc\n",
        "import dash\n",
        "from dash import dcc, html\n",
        "import dash_leaflet as dl\n",
        "import networkx as nx\n",
        "import pandas as pd\n",
        "from dash.dependencies import Input, Output"
      ],
      "metadata": {
        "id": "jrQW5QgcZwum"
      },
      "execution_count": 2,
      "outputs": []
    },
    {
      "cell_type": "code",
      "source": [
        "app = dash.Dash(__name__, external_stylesheets=[dbc.themes.BOOTSTRAP])\n",
        "\n",
        "G = nx.Graph()\n",
        "\n",
        "nodes = {\n",
        "    \"A\": (37.7749, -122.4194),  # San Francisco\n",
        "    \"B\": (34.0522, -118.2437),  # Los Angeles\n",
        "    \"C\": (36.1699, -115.1398),  # Las Vegas\n",
        "    \"D\": (32.7157, -117.1611),  # San Diego\n",
        "}\n",
        "\n",
        "for node, (lat, lon) in nodes.items():\n",
        "  G.add_node(node, pos=(lat, lon))\n",
        "\n",
        "edges = [\n",
        "    (\"A\", \"B\"),\n",
        "    (\"B\", \"C\"),\n",
        "    (\"C\", \"D\"),\n",
        "    (\"A\", \"C\"),\n",
        "    (\"B\", \"D\"),\n",
        "]\n",
        "\n",
        "for edge in edges:\n",
        "  G.add_edge(*edge)\n",
        "\n",
        "\n",
        "# Layout do Dash\n",
        "app.layout = dbc.Container(\n",
        "    [\n",
        "        dbc.Row(\n",
        "            [\n",
        "                dbc.Col(\n",
        "                    [\n",
        "                        dcc.Dropdown(\n",
        "                            id='start-node',\n",
        "                            options=[{'label': node, 'value': node} for node in nodes],\n",
        "                            placeholder=\"Select start node\",\n",
        "                        ),\n",
        "                        dcc.Dropdown(\n",
        "                            id='end-node',\n",
        "                            options=[{'label': node, 'value': node} for node in nodes],\n",
        "                            placeholder=\"Select end node\",\n",
        "                        ),\n",
        "                        html.Button('Find Shortest Path', id='find-path-btn', n_clicks=0),\n",
        "                    ],\n",
        "                    width=4,\n",
        "                ),\n",
        "                dbc.Col(\n",
        "                    [\n",
        "                        dl.Map(\n",
        "                            children=[\n",
        "                                dl.TileLayer(),\n",
        "                                dl.LayerGroup(id=\"path-layer\"),\n",
        "                            ],\n",
        "                            id=\"map\",\n",
        "                            style={'width': '100%', 'height': '500px'},\n",
        "                            center=(36, -120),\n",
        "                            zoom=6,\n",
        "                        )\n",
        "                    ],\n",
        "                    width=8,\n",
        "                ),\n",
        "            ]\n",
        "        )\n",
        "    ],\n",
        "    fluid=True,\n",
        ")\n",
        "\n",
        "\n",
        "@app.callback(\n",
        "    Output('path-layer', 'children'),\n",
        "    [Input('find-path-btn', 'n_clicks')],\n",
        "    [dash.dependencies.State('start-node', 'value'),\n",
        "     dash.dependencies.State('end-node', 'value')]\n",
        ")\n",
        "\n",
        "def update_path(n_clicks, start, end):\n",
        "    if n_clicks > 0 and start and end:\n",
        "        try:\n",
        "            shortest_path = nx.shortest_path(G, source=start, target=end)\n",
        "            latlngs = [nodes[node] for node in shortest_path]\n",
        "\n",
        "            return [dl.Polyline(positions=latlngs, color='blue', weight=5)]\n",
        "        except nx.NetworkXNoPath:\n",
        "            return []\n",
        "    return []\n",
        "\n",
        "# Rodando o servidor\n",
        "if __name__ == '__main__':\n",
        "    app.run_server(debug=True)"
      ],
      "metadata": {
        "colab": {
          "base_uri": "https://localhost:8080/",
          "height": 671
        },
        "id": "2lu7R6EL22RF",
        "outputId": "4088eee3-1fc4-44d6-b556-d9a0fbd9c23b"
      },
      "execution_count": 9,
      "outputs": [
        {
          "output_type": "display_data",
          "data": {
            "text/plain": [
              "<IPython.core.display.Javascript object>"
            ],
            "application/javascript": [
              "(async (port, path, width, height, cache, element) => {\n",
              "    if (!google.colab.kernel.accessAllowed && !cache) {\n",
              "      return;\n",
              "    }\n",
              "    element.appendChild(document.createTextNode(''));\n",
              "    const url = await google.colab.kernel.proxyPort(port, {cache});\n",
              "    const iframe = document.createElement('iframe');\n",
              "    iframe.src = new URL(path, url).toString();\n",
              "    iframe.height = height;\n",
              "    iframe.width = width;\n",
              "    iframe.style.border = 0;\n",
              "    iframe.allow = [\n",
              "        'accelerometer',\n",
              "        'autoplay',\n",
              "        'camera',\n",
              "        'clipboard-read',\n",
              "        'clipboard-write',\n",
              "        'gyroscope',\n",
              "        'magnetometer',\n",
              "        'microphone',\n",
              "        'serial',\n",
              "        'usb',\n",
              "        'xr-spatial-tracking',\n",
              "    ].join('; ');\n",
              "    element.appendChild(iframe);\n",
              "  })(8050, \"/\", \"100%\", 650, false, window.element)"
            ]
          },
          "metadata": {}
        }
      ]
    }
  ]
}